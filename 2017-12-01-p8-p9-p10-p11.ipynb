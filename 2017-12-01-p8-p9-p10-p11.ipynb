{
 "cells": [
  {
   "cell_type": "code",
   "execution_count": 28,
   "metadata": {
    "collapsed": true
   },
   "outputs": [],
   "source": [
    "import numpy as np\n",
    "from time import time\n",
    "import helpers\n",
    "\n",
    "np.set_printoptions(linewidth=100)"
   ]
  },
  {
   "cell_type": "code",
   "execution_count": null,
   "metadata": {
    "collapsed": true
   },
   "outputs": [],
   "source": []
  },
  {
   "cell_type": "markdown",
   "metadata": {},
   "source": [
    "# Problem 8\n",
    "The four adjacent digits in the huge number with the largest product are $ 9 \\times 9 \\times 8 \\times 9 = 5832$. Find the 13 adjacent digits with the largest product."
   ]
  },
  {
   "cell_type": "code",
   "execution_count": 2,
   "metadata": {
    "collapsed": true
   },
   "outputs": [],
   "source": [
    "huge_num = \"73167176531330624919225119674426574742\"\n",
    "huge_num += \"3553491949349698352031277450632623957831801698480186947\" \n",
    "huge_num += \"88518438586156078911294949545950173795833195285320880551\"\n",
    "huge_num += \"112540698747158523863050715693290963295227443043557668966\"\n",
    "huge_num += \"4895044524452316173185640309871112172238311362229893423380\"\n",
    "huge_num += \"3081353362766142828064444866452387493035890729629049156044077\"\n",
    "huge_num += \"23907138105158593079608667017242712188399879790879227492190169\"\n",
    "huge_num += \"972088809377665727333001053367881220235421809751254540594752243\"\n",
    "huge_num += \"525849077116705560136048395864467063244157221553975369781797784617\"\n",
    "huge_num += \"4064955149290862569321978468622482839722413756570560574902614079729\"\n",
    "huge_num += \"68652414535100474821663704844031998900088952434506585412275886668811\"\n",
    "huge_num += \"642717147992444292823086346567481391912316282458617866458359124566529\"\n",
    "huge_num += \"4765456828489128831426076900422421902267105562632111110937054421750694\"\n",
    "huge_num += \"165896040807198403850962455444362981230987879927244284909188845801561660979\"\n",
    "huge_num += \"19133875499200524063689912560717606058861164671094050775410022569831552000559\"\n",
    "huge_num += \"3572972571636269561882670428252483600823257530420752963450\""
   ]
  },
  {
   "cell_type": "code",
   "execution_count": 3,
   "metadata": {
    "collapsed": false
   },
   "outputs": [
    {
     "data": {
      "text/plain": [
       "'7316717653133062491922511967442657474235534919493496983520312774506326239578318016984801869478851843858615607891129494954595017379583319528532088055111254069874715852386305071569329096329522744304355766896648950445244523161731856403098711121722383113622298934233803081353362766142828064444866452387493035890729629049156044077239071381051585930796086670172427121883998797908792274921901699720888093776657273330010533678812202354218097512545405947522435258490771167055601360483958644670632441572215539753697817977846174064955149290862569321978468622482839722413756570560574902614079729686524145351004748216637048440319989000889524345065854122758866688116427171479924442928230863465674813919123162824586178664583591245665294765456828489128831426076900422421902267105562632111110937054421750694165896040807198403850962455444362981230987879927244284909188845801561660979191338754992005240636899125607176060588611646710940507754100225698315520005593572972571636269561882670428252483600823257530420752963450'"
      ]
     },
     "execution_count": 3,
     "metadata": {},
     "output_type": "execute_result"
    }
   ],
   "source": [
    "huge_num"
   ]
  },
  {
   "cell_type": "code",
   "execution_count": 4,
   "metadata": {
    "collapsed": true
   },
   "outputs": [],
   "source": [
    "def compute_prod(n):\n",
    "    num_facs = len(n)\n",
    "    n = int(n)\n",
    "    prod = 1.0\n",
    "    facs = []\n",
    "    for _ in range(num_facs):\n",
    "        facs.append(n % 10)\n",
    "        prod = prod * (n % 10)\n",
    "        n = int(n / 10)\n",
    "    return prod, facs"
   ]
  },
  {
   "cell_type": "code",
   "execution_count": 5,
   "metadata": {
    "collapsed": false
   },
   "outputs": [
    {
     "name": "stdout",
     "output_type": "stream",
     "text": [
      "PROD([9, 8, 9, 9]) = 5832.0\n",
      "This took 0.0030889511108398438 secs to run\n"
     ]
    }
   ],
   "source": [
    "start_time = time()\n",
    "i = 0\n",
    "j = 4\n",
    "n = huge_num[i:j]\n",
    "product, factors = compute_prod(n)\n",
    "\n",
    "while j <= len(huge_num):\n",
    "    i += 1\n",
    "    j += 1\n",
    "    n = huge_num[i:j]\n",
    "    temp_prod, temp_facs = compute_prod(n)\n",
    "    if temp_prod > product:\n",
    "        product = temp_prod\n",
    "        factors = temp_facs\n",
    "print('PROD({}) = {}'.format(factors, product))\n",
    "print('This took {} secs to run'.format(time() - start_time))"
   ]
  },
  {
   "cell_type": "code",
   "execution_count": 6,
   "metadata": {
    "collapsed": false
   },
   "outputs": [
    {
     "name": "stdout",
     "output_type": "stream",
     "text": [
      "PROD([5, 9, 8, 4, 6, 6, 9, 8, 6, 6, 7, 5, 5]) = 23514624000.0\n",
      "This took 0.006891965866088867 secs to run\n"
     ]
    }
   ],
   "source": [
    "start_time = time()\n",
    "i = 0\n",
    "j = 13\n",
    "n = huge_num[i:j]\n",
    "product, factors = compute_prod(n)\n",
    "\n",
    "while j <= len(huge_num):\n",
    "    i += 1\n",
    "    j += 1\n",
    "    n = huge_num[i:j]\n",
    "    temp_prod, temp_facs = compute_prod(n)\n",
    "    if temp_prod > product:\n",
    "        product = temp_prod\n",
    "        factors = temp_facs\n",
    "print('PROD({}) = {}'.format(factors, product))\n",
    "print('This took {} secs to run'.format(time() - start_time))"
   ]
  },
  {
   "cell_type": "code",
   "execution_count": null,
   "metadata": {
    "collapsed": true
   },
   "outputs": [],
   "source": []
  },
  {
   "cell_type": "markdown",
   "metadata": {},
   "source": [
    "# Problem 9\n",
    "Find $a \\times b \\times c$ where $a,b,c \\in \\mathbb{N}$ and $a^2 + b^2 = c^2$ and $a + b + c = 1000$."
   ]
  },
  {
   "cell_type": "code",
   "execution_count": 7,
   "metadata": {
    "collapsed": true
   },
   "outputs": [],
   "source": [
    "def get_abc(b):\n",
    "    a = (500000 - 1000 * b) / (1000 - b)\n",
    "    c = 1000 - (a + b)\n",
    "    return a, b, c\n",
    "\n",
    "def is_int(x):\n",
    "    if x - int(x) != 0:\n",
    "        return False\n",
    "    else:\n",
    "        return True"
   ]
  },
  {
   "cell_type": "code",
   "execution_count": 8,
   "metadata": {
    "collapsed": false,
    "scrolled": false
   },
   "outputs": [
    {
     "name": "stdout",
     "output_type": "stream",
     "text": [
      "a=375.0, b=200, c=425.0\n",
      "a=200.0, b=375, c=425.0\n",
      "This took 0.001445770263671875 secs to run\n"
     ]
    }
   ],
   "source": [
    "start_time = time()\n",
    "for blah in range(100, 1000):\n",
    "    a, b, c = get_abc(blah)\n",
    "    if is_int(a) and is_int(b) and is_int(c) and a*b*c > 0:\n",
    "        print('a={}, b={}, c={}'.format(a, b, c))\n",
    "print('This took {} secs to run'.format(time() - start_time))"
   ]
  },
  {
   "cell_type": "code",
   "execution_count": 9,
   "metadata": {
    "collapsed": false
   },
   "outputs": [
    {
     "name": "stdout",
     "output_type": "stream",
     "text": [
      "A^2 + B^2 = 40000 + 140625 = 180625\n",
      "C^2 = 180625\n",
      "A + B + C = 200 + 375 + 425 = 1000\n",
      "The product of the triple is = 200*375*425=31875000\n"
     ]
    }
   ],
   "source": [
    "A, B, C = 200, 375, 425\n",
    "print('A^2 + B^2 = {} + {} = {}'.format(A**2, B**2, A**2 + B**2))\n",
    "print('C^2 = {}'.format(C**2))\n",
    "print('A + B + C = {} + {} + {} = {}'.format(A, B, C, A + B + C))\n",
    "print('The product of the triple is = {}*{}*{}={}'.format(A, B, C, A*B*C))"
   ]
  },
  {
   "cell_type": "code",
   "execution_count": null,
   "metadata": {
    "collapsed": true
   },
   "outputs": [],
   "source": []
  },
  {
   "cell_type": "markdown",
   "metadata": {
    "collapsed": true
   },
   "source": [
    "# Problem 10\n",
    "The sum of the primes less than 10 is $2 + 3 + 5 + 7 = 17$. What is the sum of the primes less than 2,000,000?"
   ]
  },
  {
   "cell_type": "code",
   "execution_count": 15,
   "metadata": {
    "collapsed": true
   },
   "outputs": [],
   "source": [
    "primes_lt_2mm = helpers.seive(2000000)"
   ]
  },
  {
   "cell_type": "code",
   "execution_count": 16,
   "metadata": {
    "collapsed": false
   },
   "outputs": [
    {
     "name": "stdout",
     "output_type": "stream",
     "text": [
      "Sum of primes below 2MM = 142913828922\n"
     ]
    }
   ],
   "source": [
    "print('Sum of primes below 2MM = {}'.format(np.sum(primes_lt_2mm)))"
   ]
  },
  {
   "cell_type": "code",
   "execution_count": null,
   "metadata": {
    "collapsed": true
   },
   "outputs": [],
   "source": []
  },
  {
   "cell_type": "markdown",
   "metadata": {},
   "source": [
    "# Problem 11\n",
    "Find the greatest product of four adjacent numbers in the grid in any direction (up, down, left, right, or diagonal)."
   ]
  },
  {
   "cell_type": "code",
   "execution_count": 23,
   "metadata": {
    "collapsed": true
   },
   "outputs": [],
   "source": [
    "grid_str = \"\"\"08 02 22 97 38 15 00 40 00 75 04 05 07 78 52 12 50 77 91 08\n",
    "49 49 99 40 17 81 18 57 60 87 17 40 98 43 69 48 04 56 62 00\n",
    "81 49 31 73 55 79 14 29 93 71 40 67 53 88 30 03 49 13 36 65\n",
    "52 70 95 23 04 60 11 42 69 24 68 56 01 32 56 71 37 02 36 91\n",
    "22 31 16 71 51 67 63 89 41 92 36 54 22 40 40 28 66 33 13 80\n",
    "24 47 32 60 99 03 45 02 44 75 33 53 78 36 84 20 35 17 12 50\n",
    "32 98 81 28 64 23 67 10 26 38 40 67 59 54 70 66 18 38 64 70\n",
    "67 26 20 68 02 62 12 20 95 63 94 39 63 08 40 91 66 49 94 21\n",
    "24 55 58 05 66 73 99 26 97 17 78 78 96 83 14 88 34 89 63 72\n",
    "21 36 23 09 75 00 76 44 20 45 35 14 00 61 33 97 34 31 33 95\n",
    "78 17 53 28 22 75 31 67 15 94 03 80 04 62 16 14 09 53 56 92\n",
    "16 39 05 42 96 35 31 47 55 58 88 24 00 17 54 24 36 29 85 57\n",
    "86 56 00 48 35 71 89 07 05 44 44 37 44 60 21 58 51 54 17 58\n",
    "19 80 81 68 05 94 47 69 28 73 92 13 86 52 17 77 04 89 55 40\n",
    "04 52 08 83 97 35 99 16 07 97 57 32 16 26 26 79 33 27 98 66\n",
    "88 36 68 87 57 62 20 72 03 46 33 67 46 55 12 32 63 93 53 69\n",
    "04 42 16 73 38 25 39 11 24 94 72 18 08 46 29 32 40 62 76 36\n",
    "20 69 36 41 72 30 23 88 34 62 99 69 82 67 59 85 74 04 36 16\n",
    "20 73 35 29 78 31 90 01 74 31 49 71 48 86 81 16 23 57 05 54\n",
    "01 70 54 71 83 51 54 69 16 92 33 48 61 43 52 01 89 19 67 48\"\"\""
   ]
  },
  {
   "cell_type": "code",
   "execution_count": 24,
   "metadata": {
    "collapsed": true
   },
   "outputs": [],
   "source": [
    "GRID = []\n",
    "for l in grid_str.split('\\n'):\n",
    "    row = l.split(' ')\n",
    "    row = [int(el) for el in row]\n",
    "    GRID.append(row)\n",
    "GRID = np.array(GRID)"
   ]
  },
  {
   "cell_type": "code",
   "execution_count": 29,
   "metadata": {
    "collapsed": false
   },
   "outputs": [
    {
     "data": {
      "text/plain": [
       "array([[ 8,  2, 22, 97, 38, 15,  0, 40,  0, 75,  4,  5,  7, 78, 52, 12, 50, 77, 91,  8],\n",
       "       [49, 49, 99, 40, 17, 81, 18, 57, 60, 87, 17, 40, 98, 43, 69, 48,  4, 56, 62,  0],\n",
       "       [81, 49, 31, 73, 55, 79, 14, 29, 93, 71, 40, 67, 53, 88, 30,  3, 49, 13, 36, 65],\n",
       "       [52, 70, 95, 23,  4, 60, 11, 42, 69, 24, 68, 56,  1, 32, 56, 71, 37,  2, 36, 91],\n",
       "       [22, 31, 16, 71, 51, 67, 63, 89, 41, 92, 36, 54, 22, 40, 40, 28, 66, 33, 13, 80],\n",
       "       [24, 47, 32, 60, 99,  3, 45,  2, 44, 75, 33, 53, 78, 36, 84, 20, 35, 17, 12, 50],\n",
       "       [32, 98, 81, 28, 64, 23, 67, 10, 26, 38, 40, 67, 59, 54, 70, 66, 18, 38, 64, 70],\n",
       "       [67, 26, 20, 68,  2, 62, 12, 20, 95, 63, 94, 39, 63,  8, 40, 91, 66, 49, 94, 21],\n",
       "       [24, 55, 58,  5, 66, 73, 99, 26, 97, 17, 78, 78, 96, 83, 14, 88, 34, 89, 63, 72],\n",
       "       [21, 36, 23,  9, 75,  0, 76, 44, 20, 45, 35, 14,  0, 61, 33, 97, 34, 31, 33, 95],\n",
       "       [78, 17, 53, 28, 22, 75, 31, 67, 15, 94,  3, 80,  4, 62, 16, 14,  9, 53, 56, 92],\n",
       "       [16, 39,  5, 42, 96, 35, 31, 47, 55, 58, 88, 24,  0, 17, 54, 24, 36, 29, 85, 57],\n",
       "       [86, 56,  0, 48, 35, 71, 89,  7,  5, 44, 44, 37, 44, 60, 21, 58, 51, 54, 17, 58],\n",
       "       [19, 80, 81, 68,  5, 94, 47, 69, 28, 73, 92, 13, 86, 52, 17, 77,  4, 89, 55, 40],\n",
       "       [ 4, 52,  8, 83, 97, 35, 99, 16,  7, 97, 57, 32, 16, 26, 26, 79, 33, 27, 98, 66],\n",
       "       [88, 36, 68, 87, 57, 62, 20, 72,  3, 46, 33, 67, 46, 55, 12, 32, 63, 93, 53, 69],\n",
       "       [ 4, 42, 16, 73, 38, 25, 39, 11, 24, 94, 72, 18,  8, 46, 29, 32, 40, 62, 76, 36],\n",
       "       [20, 69, 36, 41, 72, 30, 23, 88, 34, 62, 99, 69, 82, 67, 59, 85, 74,  4, 36, 16],\n",
       "       [20, 73, 35, 29, 78, 31, 90,  1, 74, 31, 49, 71, 48, 86, 81, 16, 23, 57,  5, 54],\n",
       "       [ 1, 70, 54, 71, 83, 51, 54, 69, 16, 92, 33, 48, 61, 43, 52,  1, 89, 19, 67, 48]])"
      ]
     },
     "execution_count": 29,
     "metadata": {},
     "output_type": "execute_result"
    }
   ],
   "source": [
    "GRID"
   ]
  },
  {
   "cell_type": "code",
   "execution_count": 30,
   "metadata": {
    "collapsed": false
   },
   "outputs": [
    {
     "data": {
      "text/plain": [
       "(20, 20)"
      ]
     },
     "execution_count": 30,
     "metadata": {},
     "output_type": "execute_result"
    }
   ],
   "source": [
    "GRID.shape"
   ]
  },
  {
   "cell_type": "code",
   "execution_count": 33,
   "metadata": {
    "collapsed": false
   },
   "outputs": [
    {
     "data": {
      "text/plain": [
       "array([[ 8,  2, 22, 97],\n",
       "       [49, 49, 99, 40],\n",
       "       [81, 49, 31, 73],\n",
       "       [52, 70, 95, 23]])"
      ]
     },
     "execution_count": 33,
     "metadata": {},
     "output_type": "execute_result"
    }
   ],
   "source": [
    "GRID[0:4, 0:4]"
   ]
  },
  {
   "cell_type": "code",
   "execution_count": 65,
   "metadata": {
    "collapsed": true
   },
   "outputs": [],
   "source": [
    "def get_products(mini_mat):\n",
    "    row_prod = 1.0\n",
    "    col_prod = 1.0\n",
    "    dia_prod1 = 1.0\n",
    "    dia_prod2 = 1.0\n",
    "    for idx in range(mini_mat.shape[0]):\n",
    "        row_prod = row_prod * mini_mat[0, idx]\n",
    "        col_prod = col_prod * mini_mat[idx, 0]\n",
    "        dia_prod1 = dia_prod1 * mini_mat[idx, idx]\n",
    "        dia_prod2 = dia_prod2 * mini_mat[idx, 3 - idx]\n",
    "    return row_prod, col_prod, dia_prod1, dia_prod2"
   ]
  },
  {
   "cell_type": "code",
   "execution_count": 66,
   "metadata": {
    "collapsed": true
   },
   "outputs": [],
   "source": [
    "def find_max_product(matrix):\n",
    "    final_prod = -1.0\n",
    "    for i in range(0, matrix.shape[0] - 3):\n",
    "        for j in range(0, matrix.shape[1] - 3):\n",
    "            temp_prod = np.max(get_products(matrix[i:i+4, j:j+4]))\n",
    "            if temp_prod > final_prod:\n",
    "                final_prod = temp_prod\n",
    "    return final_prod"
   ]
  },
  {
   "cell_type": "code",
   "execution_count": 67,
   "metadata": {
    "collapsed": false
   },
   "outputs": [
    {
     "name": "stdout",
     "output_type": "stream",
     "text": [
      "[[ 8  2 22 97 38 15  0 40  0 75  4  5  7 78 52 12 50 77 91  8]\n",
      " [49 49 99 40 17 81 18 57 60 87 17 40 98 43 69 48  4 56 62  0]\n",
      " [81 49 31 73 55 79 14 29 93 71 40 67 53 88 30  3 49 13 36 65]\n",
      " [52 70 95 23  4 60 11 42 69 24 68 56  1 32 56 71 37  2 36 91]\n",
      " [22 31 16 71 51 67 63 89 41 92 36 54 22 40 40 28 66 33 13 80]\n",
      " [24 47 32 60 99  3 45  2 44 75 33 53 78 36 84 20 35 17 12 50]\n",
      " [32 98 81 28 64 23 67 10 26 38 40 67 59 54 70 66 18 38 64 70]\n",
      " [67 26 20 68  2 62 12 20 95 63 94 39 63  8 40 91 66 49 94 21]\n",
      " [24 55 58  5 66 73 99 26 97 17 78 78 96 83 14 88 34 89 63 72]\n",
      " [21 36 23  9 75  0 76 44 20 45 35 14  0 61 33 97 34 31 33 95]\n",
      " [78 17 53 28 22 75 31 67 15 94  3 80  4 62 16 14  9 53 56 92]\n",
      " [16 39  5 42 96 35 31 47 55 58 88 24  0 17 54 24 36 29 85 57]\n",
      " [86 56  0 48 35 71 89  7  5 44 44 37 44 60 21 58 51 54 17 58]\n",
      " [19 80 81 68  5 94 47 69 28 73 92 13 86 52 17 77  4 89 55 40]\n",
      " [ 4 52  8 83 97 35 99 16  7 97 57 32 16 26 26 79 33 27 98 66]\n",
      " [88 36 68 87 57 62 20 72  3 46 33 67 46 55 12 32 63 93 53 69]\n",
      " [ 4 42 16 73 38 25 39 11 24 94 72 18  8 46 29 32 40 62 76 36]\n",
      " [20 69 36 41 72 30 23 88 34 62 99 69 82 67 59 85 74  4 36 16]\n",
      " [20 73 35 29 78 31 90  1 74 31 49 71 48 86 81 16 23 57  5 54]\n",
      " [ 1 70 54 71 83 51 54 69 16 92 33 48 61 43 52  1 89 19 67 48]]\n"
     ]
    }
   ],
   "source": [
    "print(GRID)"
   ]
  },
  {
   "cell_type": "code",
   "execution_count": 69,
   "metadata": {
    "collapsed": true,
    "scrolled": false
   },
   "outputs": [],
   "source": [
    "# start_time = time()\n",
    "# ctr = 0\n",
    "# for i in range(0, GRID.shape[0] - 3):\n",
    "#     for j in range(0, GRID.shape[1] - 3):\n",
    "#         temp_grid = GRID[i:i+4, j:j+4]\n",
    "#         ctr += 1\n",
    "#         print('{}, {}'.format(temp_grid, get_products(temp_grid)))\n",
    "#         #print(ctr)\n",
    "# print('This took {} secs to run'.format(time() - start_time))"
   ]
  },
  {
   "cell_type": "code",
   "execution_count": 70,
   "metadata": {
    "collapsed": false
   },
   "outputs": [
    {
     "name": "stdout",
     "output_type": "stream",
     "text": [
      "The max product is 70600674.0 and took 0.008266925811767578 secs to run\n"
     ]
    }
   ],
   "source": [
    "start_time = time()\n",
    "big_ass_product = find_max_product(GRID)\n",
    "print('The max product is {} and took {} secs to run'.format(big_ass_product, time() - start_time))"
   ]
  },
  {
   "cell_type": "code",
   "execution_count": null,
   "metadata": {
    "collapsed": true
   },
   "outputs": [],
   "source": []
  },
  {
   "cell_type": "code",
   "execution_count": null,
   "metadata": {
    "collapsed": true
   },
   "outputs": [],
   "source": []
  },
  {
   "cell_type": "code",
   "execution_count": null,
   "metadata": {
    "collapsed": true
   },
   "outputs": [],
   "source": []
  },
  {
   "cell_type": "code",
   "execution_count": null,
   "metadata": {
    "collapsed": true
   },
   "outputs": [],
   "source": []
  }
 ],
 "metadata": {
  "anaconda-cloud": {},
  "kernelspec": {
   "display_name": "Python [Root]",
   "language": "python",
   "name": "Python [Root]"
  },
  "language_info": {
   "codemirror_mode": {
    "name": "ipython",
    "version": 3
   },
   "file_extension": ".py",
   "mimetype": "text/x-python",
   "name": "python",
   "nbconvert_exporter": "python",
   "pygments_lexer": "ipython3",
   "version": "3.5.2"
  }
 },
 "nbformat": 4,
 "nbformat_minor": 1
}
