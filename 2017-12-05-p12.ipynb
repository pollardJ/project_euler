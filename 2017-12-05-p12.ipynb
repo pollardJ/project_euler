{
 "cells": [
  {
   "cell_type": "code",
   "execution_count": 9,
   "metadata": {
    "collapsed": true
   },
   "outputs": [],
   "source": [
    "import pandas as pd\n",
    "import numpy as np\n",
    "import warnings\n",
    "import helpers\n",
    "from time import time\n",
    "\n",
    "warnings.filterwarnings('ignore')"
   ]
  },
  {
   "cell_type": "code",
   "execution_count": null,
   "metadata": {
    "collapsed": true
   },
   "outputs": [],
   "source": []
  },
  {
   "cell_type": "markdown",
   "metadata": {},
   "source": [
    "# Problem 12\n",
    "Determine the first triangle number to have over 500 divisors."
   ]
  },
  {
   "cell_type": "code",
   "execution_count": 30,
   "metadata": {
    "collapsed": true
   },
   "outputs": [],
   "source": [
    "def triangle_num(n):\n",
    "    \"\"\"Returns the nth triangle number.\"\"\"\n",
    "    if n == 1:\n",
    "        return n\n",
    "    else:\n",
    "        return n + triangle_num(n - 1)\n",
    "\n",
    "def triangle_num2(n):\n",
    "    \"\"\"Returns the nth triangle number.\"\"\"\n",
    "    numer = n * (n + 1)\n",
    "    return int(numer / 2)"
   ]
  },
  {
   "cell_type": "code",
   "execution_count": 52,
   "metadata": {
    "collapsed": false
   },
   "outputs": [],
   "source": [
    "def find_factors(n):\n",
    "    if n == 1:\n",
    "        return [1]\n",
    "    else:\n",
    "        nums_lt_n = list(range(2, n))\n",
    "        n2 = n\n",
    "        factors = [1]\n",
    "        for pf in nums_lt_n:\n",
    "            if n % pf == 0:\n",
    "                factors.append(pf)\n",
    "                n2 = n2 / pf\n",
    "        factors.append(n)\n",
    "        return factors\n",
    "\n",
    "def find_num_factors(n):\n",
    "    if n == 1:\n",
    "        return 1\n",
    "    else:\n",
    "        num_facs = 2\n",
    "        potentials = list(range(2, int(np.sqrt(n)) + 1))\n",
    "        for pf in potentials:\n",
    "            if n % pf == 0:\n",
    "                if int(n / pf) == pf:\n",
    "                    num_facs += 1\n",
    "                else:\n",
    "                    num_facs += 2\n",
    "        return num_facs"
   ]
  },
  {
   "cell_type": "code",
   "execution_count": 53,
   "metadata": {
    "collapsed": false
   },
   "outputs": [
    {
     "name": "stdout",
     "output_type": "stream",
     "text": [
      "1: 1, 1\n",
      "2: 3, 3\n",
      "3: 6, 6\n",
      "4: 10, 10\n",
      "5: 15, 15\n",
      "6: 21, 21\n",
      "7: 28, 28\n",
      "8: 36, 36\n",
      "9: 45, 45\n",
      "10: 55, 55\n",
      "11: 66, 66\n",
      "12: 78, 78\n",
      "13: 91, 91\n",
      "14: 105, 105\n",
      "15: 120, 120\n",
      "16: 136, 136\n",
      "17: 153, 153\n",
      "18: 171, 171\n",
      "19: 190, 190\n",
      "20: 210, 210\n",
      "21: 231, 231\n",
      "22: 253, 253\n",
      "23: 276, 276\n",
      "24: 300, 300\n",
      "25: 325, 325\n"
     ]
    }
   ],
   "source": [
    "for i in range(1, 26):\n",
    "    print('{}: {}, {}'.format(i, triangle_num(i), triangle_num2(i)))"
   ]
  },
  {
   "cell_type": "code",
   "execution_count": 54,
   "metadata": {
    "collapsed": false
   },
   "outputs": [
    {
     "name": "stdout",
     "output_type": "stream",
     "text": [
      "1: 1, 1, 1\n",
      "2: 3, 2, 2\n",
      "3: 6, 4, 4\n",
      "4: 10, 4, 4\n",
      "5: 15, 4, 4\n",
      "6: 21, 4, 4\n",
      "7: 28, 6, 6\n",
      "8: 36, 9, 9\n",
      "9: 45, 6, 6\n",
      "10: 55, 4, 4\n",
      "11: 66, 8, 8\n",
      "12: 78, 8, 8\n",
      "13: 91, 4, 4\n",
      "14: 105, 8, 8\n",
      "15: 120, 16, 16\n",
      "16: 136, 8, 8\n",
      "17: 153, 6, 6\n",
      "18: 171, 6, 6\n",
      "19: 190, 8, 8\n",
      "20: 210, 16, 16\n",
      "21: 231, 8, 8\n",
      "22: 253, 4, 4\n",
      "23: 276, 12, 12\n",
      "24: 300, 18, 18\n",
      "25: 325, 6, 6\n"
     ]
    }
   ],
   "source": [
    "for z in range(1, 26):\n",
    "    tri_num = triangle_num(z)\n",
    "    print('{}: {}, {}, {}'.format(z, tri_num, find_num_factors(tri_num), len(find_factors(tri_num))))"
   ]
  },
  {
   "cell_type": "code",
   "execution_count": 57,
   "metadata": {
    "collapsed": false
   },
   "outputs": [
    {
     "ename": "KeyboardInterrupt",
     "evalue": "",
     "output_type": "error",
     "traceback": [
      "\u001b[0;31m---------------------------------------------------------------------------\u001b[0m",
      "\u001b[0;31mKeyboardInterrupt\u001b[0m                         Traceback (most recent call last)",
      "\u001b[0;32m<ipython-input-57-df6893dbbf17>\u001b[0m in \u001b[0;36m<module>\u001b[0;34m()\u001b[0m\n\u001b[1;32m      4\u001b[0m \u001b[0;32mwhile\u001b[0m \u001b[0;32mnot\u001b[0m \u001b[0mhighly_div_tri_found\u001b[0m\u001b[0;34m:\u001b[0m\u001b[0;34m\u001b[0m\u001b[0m\n\u001b[1;32m      5\u001b[0m     \u001b[0mtri_num\u001b[0m \u001b[0;34m=\u001b[0m \u001b[0mtriangle_num2\u001b[0m\u001b[0;34m(\u001b[0m\u001b[0mi\u001b[0m\u001b[0;34m)\u001b[0m\u001b[0;34m\u001b[0m\u001b[0m\n\u001b[0;32m----> 6\u001b[0;31m     \u001b[0mfacs\u001b[0m \u001b[0;34m=\u001b[0m \u001b[0mfind_factors\u001b[0m\u001b[0;34m(\u001b[0m\u001b[0mtri_num\u001b[0m\u001b[0;34m)\u001b[0m\u001b[0;34m\u001b[0m\u001b[0m\n\u001b[0m\u001b[1;32m      7\u001b[0m     \u001b[0;32mif\u001b[0m \u001b[0mlen\u001b[0m\u001b[0;34m(\u001b[0m\u001b[0mfacs\u001b[0m\u001b[0;34m)\u001b[0m \u001b[0;34m>\u001b[0m \u001b[0;36m500\u001b[0m\u001b[0;34m:\u001b[0m\u001b[0;34m\u001b[0m\u001b[0m\n\u001b[1;32m      8\u001b[0m         \u001b[0mhighly_div_tri_found\u001b[0m \u001b[0;34m=\u001b[0m \u001b[0;32mTrue\u001b[0m\u001b[0;34m\u001b[0m\u001b[0m\n",
      "\u001b[0;32m<ipython-input-52-16147809ac28>\u001b[0m in \u001b[0;36mfind_factors\u001b[0;34m(n)\u001b[0m\n\u001b[1;32m      7\u001b[0m         \u001b[0mfactors\u001b[0m \u001b[0;34m=\u001b[0m \u001b[0;34m[\u001b[0m\u001b[0;36m1\u001b[0m\u001b[0;34m]\u001b[0m\u001b[0;34m\u001b[0m\u001b[0m\n\u001b[1;32m      8\u001b[0m         \u001b[0;32mfor\u001b[0m \u001b[0mpf\u001b[0m \u001b[0;32min\u001b[0m \u001b[0mnums_lt_n\u001b[0m\u001b[0;34m:\u001b[0m\u001b[0;34m\u001b[0m\u001b[0m\n\u001b[0;32m----> 9\u001b[0;31m             \u001b[0;32mif\u001b[0m \u001b[0mn\u001b[0m \u001b[0;34m%\u001b[0m \u001b[0mpf\u001b[0m \u001b[0;34m==\u001b[0m \u001b[0;36m0\u001b[0m\u001b[0;34m:\u001b[0m\u001b[0;34m\u001b[0m\u001b[0m\n\u001b[0m\u001b[1;32m     10\u001b[0m                 \u001b[0mfactors\u001b[0m\u001b[0;34m.\u001b[0m\u001b[0mappend\u001b[0m\u001b[0;34m(\u001b[0m\u001b[0mpf\u001b[0m\u001b[0;34m)\u001b[0m\u001b[0;34m\u001b[0m\u001b[0m\n\u001b[1;32m     11\u001b[0m                 \u001b[0mn2\u001b[0m \u001b[0;34m=\u001b[0m \u001b[0mn2\u001b[0m \u001b[0;34m/\u001b[0m \u001b[0mpf\u001b[0m\u001b[0;34m\u001b[0m\u001b[0m\n",
      "\u001b[0;31mKeyboardInterrupt\u001b[0m: "
     ]
    }
   ],
   "source": [
    "start_time = time()\n",
    "highly_div_tri_found = False\n",
    "i = 1\n",
    "while not highly_div_tri_found:\n",
    "    tri_num = triangle_num2(i)\n",
    "    facs = find_factors(tri_num)\n",
    "    if len(facs) > 500:\n",
    "        highly_div_tri_found = True\n",
    "    else:\n",
    "        i += 1\n",
    "print('This took {} secs to run'.format(time() - start_time))"
   ]
  },
  {
   "cell_type": "code",
   "execution_count": 58,
   "metadata": {
    "collapsed": false
   },
   "outputs": [
    {
     "data": {
      "text/plain": [
       "2608"
      ]
     },
     "execution_count": 58,
     "metadata": {},
     "output_type": "execute_result"
    }
   ],
   "source": [
    "i"
   ]
  },
  {
   "cell_type": "code",
   "execution_count": null,
   "metadata": {
    "collapsed": true
   },
   "outputs": [],
   "source": []
  },
  {
   "cell_type": "code",
   "execution_count": null,
   "metadata": {
    "collapsed": true
   },
   "outputs": [],
   "source": []
  },
  {
   "cell_type": "code",
   "execution_count": null,
   "metadata": {
    "collapsed": true
   },
   "outputs": [],
   "source": []
  },
  {
   "cell_type": "code",
   "execution_count": null,
   "metadata": {
    "collapsed": true
   },
   "outputs": [],
   "source": []
  },
  {
   "cell_type": "code",
   "execution_count": null,
   "metadata": {
    "collapsed": true
   },
   "outputs": [],
   "source": []
  }
 ],
 "metadata": {
  "anaconda-cloud": {},
  "kernelspec": {
   "display_name": "Python [Root]",
   "language": "python",
   "name": "Python [Root]"
  },
  "language_info": {
   "codemirror_mode": {
    "name": "ipython",
    "version": 3
   },
   "file_extension": ".py",
   "mimetype": "text/x-python",
   "name": "python",
   "nbconvert_exporter": "python",
   "pygments_lexer": "ipython3",
   "version": "3.5.2"
  }
 },
 "nbformat": 4,
 "nbformat_minor": 2
}
