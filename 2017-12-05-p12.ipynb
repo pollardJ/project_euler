{
 "cells": [
  {
   "cell_type": "code",
   "execution_count": 1,
   "metadata": {},
   "outputs": [],
   "source": [
    "import pandas as pd\n",
    "import numpy as np\n",
    "import warnings\n",
    "import helpers\n",
    "\n",
    "warnings.filterwarnings('ignore')"
   ]
  },
  {
   "cell_type": "code",
   "execution_count": null,
   "metadata": {
    "collapsed": true
   },
   "outputs": [],
   "source": []
  },
  {
   "cell_type": "markdown",
   "metadata": {},
   "source": [
    "# Problem 12\n",
    "Determine the first triangle number to have over 500 divisors."
   ]
  },
  {
   "cell_type": "code",
   "execution_count": 2,
   "metadata": {
    "collapsed": true
   },
   "outputs": [],
   "source": [
    "def triangle_num(n):\n",
    "    \"\"\"Returns the nth triangle number.\"\"\"\n",
    "    if n == 1:\n",
    "        return n\n",
    "    else:\n",
    "        return n + triangle_num(n - 1)"
   ]
  },
  {
   "cell_type": "code",
   "execution_count": 4,
   "metadata": {},
   "outputs": [
    {
     "name": "stdout",
     "output_type": "stream",
     "text": [
      "1: 1, []\n",
      "2: 3, [2, 1]\n",
      "3: 6, [4, 3, 5]\n",
      "4: 10, [8, 9, 5, 7]\n",
      "5: 15, [8, 9, 5, 7, 11, 13]\n",
      "6: 21, [16, 9, 5, 7, 11, 13, 17, 19]\n",
      "7: 28, [16, 27, 25, 7, 11, 13, 17, 19, 23]\n",
      "8: 36, [32, 27, 25, 7, 11, 13, 17, 19, 23, 29, 31]\n",
      "9: 45, [32, 27, 25, 7, 11, 13, 17, 19, 23, 29, 31, 37, 41, 43]\n",
      "10: 55, [32, 27, 25, 49, 11, 13, 17, 19, 23, 29, 31, 37, 41, 43, 47, 53]\n"
     ]
    }
   ],
   "source": [
    "for i in range(1, 11):\n",
    "    print('{}: {}, {}'.format(i, triangle_num(i), helpers.highest_pow_lt_n(triangle_num(i))))"
   ]
  },
  {
   "cell_type": "code",
   "execution_count": null,
   "metadata": {
    "collapsed": true
   },
   "outputs": [],
   "source": []
  }
 ],
 "metadata": {
  "kernelspec": {
   "display_name": "Python 3",
   "language": "python",
   "name": "python3"
  },
  "language_info": {
   "codemirror_mode": {
    "name": "ipython",
    "version": 3
   },
   "file_extension": ".py",
   "mimetype": "text/x-python",
   "name": "python",
   "nbconvert_exporter": "python",
   "pygments_lexer": "ipython3",
   "version": "3.6.3"
  }
 },
 "nbformat": 4,
 "nbformat_minor": 2
}
