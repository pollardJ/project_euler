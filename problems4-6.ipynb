{
 "cells": [
  {
   "cell_type": "code",
   "execution_count": 40,
   "metadata": {
    "collapsed": true
   },
   "outputs": [],
   "source": [
    "import pandas as pd\n",
    "import numpy as np\n",
    "import warnings\n",
    "from time import time"
   ]
  },
  {
   "cell_type": "code",
   "execution_count": 35,
   "metadata": {},
   "outputs": [
    {
     "name": "stdout",
     "output_type": "stream",
     "text": [
      "r=1, n=99800, d=1\n",
      "r=10, n=9980, d=0\n",
      "r=100, n=998, d=0\n",
      "r=1008, n=99, d=8\n",
      "r=10089, n=9, d=9\n",
      "r=100899, n=0, d=9\n"
     ]
    }
   ],
   "source": [
    "n = num\n",
    "r = 0\n",
    "while n > 0:\n",
    "    d = n % 10\n",
    "    r = r * 10 + d\n",
    "    n = int(n / 10)\n",
    "    print('r={}, n={}, d={}'.format(r, n, d))"
   ]
  },
  {
   "cell_type": "code",
   "execution_count": 37,
   "metadata": {
    "collapsed": true
   },
   "outputs": [],
   "source": [
    "def palindrome(n):\n",
    "    num = n\n",
    "    r = 0 \n",
    "    while num > 0:\n",
    "        d = num % 10\n",
    "        r = r * 10 + d\n",
    "        num = int(num / 10)\n",
    "    if r == n:\n",
    "        return True\n",
    "    else:\n",
    "        return False"
   ]
  },
  {
   "cell_type": "code",
   "execution_count": 43,
   "metadata": {
    "scrolled": false
   },
   "outputs": [
    {
     "name": "stdout",
     "output_type": "stream",
     "text": [
      "Largest palindrome that is product of two 3 digit numbers is 906609 = 913 * 993\n",
      "Problem 4 took 0.8510620594024658 seconds to run\n"
     ]
    }
   ],
   "source": [
    "start_time = time()\n",
    "the_big_one = 0\n",
    "fac1 = 0\n",
    "fac2 = 0\n",
    "for i in range(100, 1000):\n",
    "    for j in range(i, 1000):\n",
    "        product = i * j\n",
    "        if palindrome(product) and product > the_big_one:\n",
    "            the_big_one = product\n",
    "            fac1 = i\n",
    "            fac2 = j\n",
    "print('Largest palindrome that is product of two 3 digit numbers is {} = {} * {}'.format(the_big_one, fac1, fac2))\n",
    "print('Problem 4 took {} seconds to run'.format(time() - start_time))"
   ]
  },
  {
   "cell_type": "code",
   "execution_count": null,
   "metadata": {
    "collapsed": true
   },
   "outputs": [],
   "source": []
  },
  {
   "cell_type": "code",
   "execution_count": null,
   "metadata": {
    "collapsed": true
   },
   "outputs": [],
   "source": []
  },
  {
   "cell_type": "code",
   "execution_count": null,
   "metadata": {
    "collapsed": true
   },
   "outputs": [],
   "source": []
  },
  {
   "cell_type": "code",
   "execution_count": null,
   "metadata": {
    "collapsed": true
   },
   "outputs": [],
   "source": []
  }
 ],
 "metadata": {
  "anaconda-cloud": {},
  "kernelspec": {
   "display_name": "Python 3",
   "language": "python",
   "name": "python3"
  },
  "language_info": {
   "codemirror_mode": {
    "name": "ipython",
    "version": 3
   },
   "file_extension": ".py",
   "mimetype": "text/x-python",
   "name": "python",
   "nbconvert_exporter": "python",
   "pygments_lexer": "ipython3",
   "version": "3.6.3"
  }
 },
 "nbformat": 4,
 "nbformat_minor": 1
}
