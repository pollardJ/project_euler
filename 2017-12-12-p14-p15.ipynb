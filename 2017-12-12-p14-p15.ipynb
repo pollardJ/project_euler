{
 "cells": [
  {
   "cell_type": "code",
   "execution_count": 16,
   "metadata": {
    "collapsed": true
   },
   "outputs": [],
   "source": [
    "import pandas as pd\n",
    "import numpy as np\n",
    "import warnings\n",
    "from time import time\n",
    "\n",
    "warnings.filterwarnings('ignore')"
   ]
  },
  {
   "cell_type": "code",
   "execution_count": null,
   "metadata": {
    "collapsed": true
   },
   "outputs": [],
   "source": []
  },
  {
   "cell_type": "markdown",
   "metadata": {},
   "source": [
    "# Problem 14:\n",
    "What number less than 1,000,000 gives the longest Collatz Sequence?"
   ]
  },
  {
   "cell_type": "code",
   "execution_count": 9,
   "metadata": {
    "collapsed": true
   },
   "outputs": [],
   "source": [
    "def get_next_val(n):\n",
    "    if n % 2 == 0:\n",
    "        return n / 2\n",
    "    else:\n",
    "        return 3 * n + 1\n",
    "    \n",
    "def get_collatz_len(start):\n",
    "    collazt_num = start\n",
    "    seq_len = 1\n",
    "    while collazt_num > 1:\n",
    "        seq_len += 1\n",
    "        collazt_num = get_next_val(collazt_num)\n",
    "    return seq_len"
   ]
  },
  {
   "cell_type": "code",
   "execution_count": 17,
   "metadata": {},
   "outputs": [
    {
     "name": "stdout",
     "output_type": "stream",
     "text": [
      "Longest Collatz sequence for starting number under 1MM is 525\n",
      "It was started by 837799\n",
      "This took 32.88175106048584 secs to run\n"
     ]
    }
   ],
   "source": [
    "start_time = time()\n",
    "max_seq_len = get_collatz_len(13)\n",
    "starting_num = 13\n",
    "for n in range(14, 1000000):\n",
    "    temp_seq_len = get_collatz_len(n)\n",
    "    if temp_seq_len > max_seq_len:\n",
    "        max_seq_len = temp_seq_len\n",
    "        starting_num = n\n",
    "print('Longest Collatz sequence for starting number under 1MM is {}'.format(max_seq_len))\n",
    "print('It was started by {}'.format(starting_num))\n",
    "print('This took {} secs to run'.format(time() - start_time))"
   ]
  },
  {
   "cell_type": "code",
   "execution_count": null,
   "metadata": {
    "collapsed": true
   },
   "outputs": [],
   "source": []
  },
  {
   "cell_type": "markdown",
   "metadata": {},
   "source": [
    "# Problem 15\n",
    "Find number of paths to bottom right corner from top left corner of 20 X 20 grid only moving right or down at each move. "
   ]
  },
  {
   "cell_type": "code",
   "execution_count": null,
   "metadata": {
    "collapsed": true
   },
   "outputs": [],
   "source": []
  },
  {
   "cell_type": "code",
   "execution_count": null,
   "metadata": {
    "collapsed": true
   },
   "outputs": [],
   "source": []
  },
  {
   "cell_type": "code",
   "execution_count": null,
   "metadata": {
    "collapsed": true
   },
   "outputs": [],
   "source": []
  }
 ],
 "metadata": {
  "kernelspec": {
   "display_name": "Python 3",
   "language": "python",
   "name": "python3"
  },
  "language_info": {
   "codemirror_mode": {
    "name": "ipython",
    "version": 3
   },
   "file_extension": ".py",
   "mimetype": "text/x-python",
   "name": "python",
   "nbconvert_exporter": "python",
   "pygments_lexer": "ipython3",
   "version": "3.6.3"
  }
 },
 "nbformat": 4,
 "nbformat_minor": 2
}
