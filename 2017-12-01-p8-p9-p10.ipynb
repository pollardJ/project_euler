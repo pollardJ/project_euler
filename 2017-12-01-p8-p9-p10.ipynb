{
 "cells": [
  {
   "cell_type": "code",
   "execution_count": 1,
   "metadata": {},
   "outputs": [],
   "source": [
    "import numpy as np\n",
    "from time import time\n",
    "import helpers"
   ]
  },
  {
   "cell_type": "code",
   "execution_count": null,
   "metadata": {
    "collapsed": true
   },
   "outputs": [],
   "source": []
  },
  {
   "cell_type": "markdown",
   "metadata": {},
   "source": [
    "# Problem 8\n",
    "The four adjacent digits in the huge number with the largest product are $ 9 \\times 9 \\times 8 \\times 9 = 5832$. Find the 13 adjacent digits with the largest product."
   ]
  },
  {
   "cell_type": "code",
   "execution_count": 2,
   "metadata": {
    "collapsed": true
   },
   "outputs": [],
   "source": [
    "huge_num = \"73167176531330624919225119674426574742\"\n",
    "huge_num += \"3553491949349698352031277450632623957831801698480186947\" \n",
    "huge_num += \"88518438586156078911294949545950173795833195285320880551\"\n",
    "huge_num += \"112540698747158523863050715693290963295227443043557668966\"\n",
    "huge_num += \"4895044524452316173185640309871112172238311362229893423380\"\n",
    "huge_num += \"3081353362766142828064444866452387493035890729629049156044077\"\n",
    "huge_num += \"23907138105158593079608667017242712188399879790879227492190169\"\n",
    "huge_num += \"972088809377665727333001053367881220235421809751254540594752243\"\n",
    "huge_num += \"525849077116705560136048395864467063244157221553975369781797784617\"\n",
    "huge_num += \"4064955149290862569321978468622482839722413756570560574902614079729\"\n",
    "huge_num += \"68652414535100474821663704844031998900088952434506585412275886668811\"\n",
    "huge_num += \"642717147992444292823086346567481391912316282458617866458359124566529\"\n",
    "huge_num += \"4765456828489128831426076900422421902267105562632111110937054421750694\"\n",
    "huge_num += \"165896040807198403850962455444362981230987879927244284909188845801561660979\"\n",
    "huge_num += \"19133875499200524063689912560717606058861164671094050775410022569831552000559\"\n",
    "huge_num += \"3572972571636269561882670428252483600823257530420752963450\""
   ]
  },
  {
   "cell_type": "code",
   "execution_count": 3,
   "metadata": {},
   "outputs": [
    {
     "data": {
      "text/plain": [
       "'7316717653133062491922511967442657474235534919493496983520312774506326239578318016984801869478851843858615607891129494954595017379583319528532088055111254069874715852386305071569329096329522744304355766896648950445244523161731856403098711121722383113622298934233803081353362766142828064444866452387493035890729629049156044077239071381051585930796086670172427121883998797908792274921901699720888093776657273330010533678812202354218097512545405947522435258490771167055601360483958644670632441572215539753697817977846174064955149290862569321978468622482839722413756570560574902614079729686524145351004748216637048440319989000889524345065854122758866688116427171479924442928230863465674813919123162824586178664583591245665294765456828489128831426076900422421902267105562632111110937054421750694165896040807198403850962455444362981230987879927244284909188845801561660979191338754992005240636899125607176060588611646710940507754100225698315520005593572972571636269561882670428252483600823257530420752963450'"
      ]
     },
     "execution_count": 3,
     "metadata": {},
     "output_type": "execute_result"
    }
   ],
   "source": [
    "huge_num"
   ]
  },
  {
   "cell_type": "code",
   "execution_count": 4,
   "metadata": {
    "collapsed": true
   },
   "outputs": [],
   "source": [
    "def compute_prod(n):\n",
    "    num_facs = len(n)\n",
    "    n = int(n)\n",
    "    prod = 1.0\n",
    "    facs = []\n",
    "    for _ in range(num_facs):\n",
    "        facs.append(n % 10)\n",
    "        prod = prod * (n % 10)\n",
    "        n = int(n / 10)\n",
    "    return prod, facs"
   ]
  },
  {
   "cell_type": "code",
   "execution_count": 5,
   "metadata": {},
   "outputs": [
    {
     "name": "stdout",
     "output_type": "stream",
     "text": [
      "PROD([9, 8, 9, 9]) = 5832.0\n",
      "This took 0.0030868053436279297 secs to run\n"
     ]
    }
   ],
   "source": [
    "start_time = time()\n",
    "i = 0\n",
    "j = 4\n",
    "n = huge_num[i:j]\n",
    "product, factors = compute_prod(n)\n",
    "\n",
    "while j <= len(huge_num):\n",
    "    i += 1\n",
    "    j += 1\n",
    "    n = huge_num[i:j]\n",
    "    temp_prod, temp_facs = compute_prod(n)\n",
    "    if temp_prod > product:\n",
    "        product = temp_prod\n",
    "        factors = temp_facs\n",
    "print('PROD({}) = {}'.format(factors, product))\n",
    "print('This took {} secs to run'.format(time() - start_time))"
   ]
  },
  {
   "cell_type": "code",
   "execution_count": 6,
   "metadata": {},
   "outputs": [
    {
     "name": "stdout",
     "output_type": "stream",
     "text": [
      "PROD([5, 9, 8, 4, 6, 6, 9, 8, 6, 6, 7, 5, 5]) = 23514624000.0\n",
      "This took 0.0066411495208740234 secs to run\n"
     ]
    }
   ],
   "source": [
    "start_time = time()\n",
    "i = 0\n",
    "j = 13\n",
    "n = huge_num[i:j]\n",
    "product, factors = compute_prod(n)\n",
    "\n",
    "while j <= len(huge_num):\n",
    "    i += 1\n",
    "    j += 1\n",
    "    n = huge_num[i:j]\n",
    "    temp_prod, temp_facs = compute_prod(n)\n",
    "    if temp_prod > product:\n",
    "        product = temp_prod\n",
    "        factors = temp_facs\n",
    "print('PROD({}) = {}'.format(factors, product))\n",
    "print('This took {} secs to run'.format(time() - start_time))"
   ]
  },
  {
   "cell_type": "code",
   "execution_count": null,
   "metadata": {
    "collapsed": true
   },
   "outputs": [],
   "source": []
  },
  {
   "cell_type": "markdown",
   "metadata": {},
   "source": [
    "# Problem 9\n",
    "Find $a \\times b \\times c$ where $a,b,c \\in \\mathbb{N}$ and $a^2 + b^2 = c^2$ and $a + b + c = 1000$."
   ]
  },
  {
   "cell_type": "code",
   "execution_count": 7,
   "metadata": {
    "collapsed": true
   },
   "outputs": [],
   "source": [
    "def get_abc(b):\n",
    "    a = (500000 - 1000 * b) / (1000 - b)\n",
    "    c = 1000 - (a + b)\n",
    "    return a, b, c\n",
    "\n",
    "def is_int(x):\n",
    "    if x - int(x) != 0:\n",
    "        return False\n",
    "    else:\n",
    "        return True"
   ]
  },
  {
   "cell_type": "code",
   "execution_count": 8,
   "metadata": {
    "scrolled": false
   },
   "outputs": [
    {
     "name": "stdout",
     "output_type": "stream",
     "text": [
      "a=375.0, b=200, c=425.0\n",
      "a=200.0, b=375, c=425.0\n",
      "This took 0.002405881881713867 secs to run\n"
     ]
    }
   ],
   "source": [
    "start_time = time()\n",
    "for blah in range(100, 1000):\n",
    "    a, b, c = get_abc(blah)\n",
    "    if is_int(a) and is_int(b) and is_int(c) and a*b*c > 0:\n",
    "        print('a={}, b={}, c={}'.format(a, b, c))\n",
    "print('This took {} secs to run'.format(time() - start_time))"
   ]
  },
  {
   "cell_type": "code",
   "execution_count": 9,
   "metadata": {},
   "outputs": [
    {
     "name": "stdout",
     "output_type": "stream",
     "text": [
      "A^2 + B^2 = 40000 + 140625 = 180625\n",
      "C^2 = 180625\n",
      "A + B + C = 200 + 375 + 425 = 1000\n",
      "The product of the triple is = 200*375*425=31875000\n"
     ]
    }
   ],
   "source": [
    "A, B, C = 200, 375, 425\n",
    "print('A^2 + B^2 = {} + {} = {}'.format(A**2, B**2, A**2 + B**2))\n",
    "print('C^2 = {}'.format(C**2))\n",
    "print('A + B + C = {} + {} + {} = {}'.format(A, B, C, A + B + C))\n",
    "print('The product of the triple is = {}*{}*{}={}'.format(A, B, C, A*B*C))"
   ]
  },
  {
   "cell_type": "code",
   "execution_count": null,
   "metadata": {
    "collapsed": true
   },
   "outputs": [],
   "source": []
  },
  {
   "cell_type": "markdown",
   "metadata": {
    "collapsed": true
   },
   "source": [
    "# Problem 10\n",
    "The sum of the primes less than 10 is $2 + 3 + 5 + 7 = 17$. What is the sum of the primes less than 2,000,000?"
   ]
  },
  {
   "cell_type": "code",
   "execution_count": 11,
   "metadata": {
    "collapsed": true
   },
   "outputs": [],
   "source": [
    "n_vals = list(range(100, 1000100, 100))\n",
    "t_vals = []"
   ]
  },
  {
   "cell_type": "code",
   "execution_count": 12,
   "metadata": {},
   "outputs": [
    {
     "ename": "NameError",
     "evalue": "name 'np' is not defined",
     "output_type": "error",
     "traceback": [
      "\u001b[0;31m---------------------------------------------------------------------------\u001b[0m",
      "\u001b[0;31mNameError\u001b[0m                                 Traceback (most recent call last)",
      "\u001b[0;32m<ipython-input-12-9d19ade638d1>\u001b[0m in \u001b[0;36m<module>\u001b[0;34m()\u001b[0m\n\u001b[1;32m      1\u001b[0m \u001b[0;32mfor\u001b[0m \u001b[0mn\u001b[0m \u001b[0;32min\u001b[0m \u001b[0mn_vals\u001b[0m\u001b[0;34m:\u001b[0m\u001b[0;34m\u001b[0m\u001b[0m\n\u001b[1;32m      2\u001b[0m     \u001b[0mst\u001b[0m \u001b[0;34m=\u001b[0m \u001b[0mtime\u001b[0m\u001b[0;34m(\u001b[0m\u001b[0;34m)\u001b[0m\u001b[0;34m\u001b[0m\u001b[0m\n\u001b[0;32m----> 3\u001b[0;31m     \u001b[0mp_vals\u001b[0m \u001b[0;34m=\u001b[0m \u001b[0mhelpers\u001b[0m\u001b[0;34m.\u001b[0m\u001b[0mseive\u001b[0m\u001b[0;34m(\u001b[0m\u001b[0mn\u001b[0m\u001b[0;34m)\u001b[0m\u001b[0;34m\u001b[0m\u001b[0m\n\u001b[0m\u001b[1;32m      4\u001b[0m     \u001b[0mt_vals\u001b[0m\u001b[0;34m.\u001b[0m\u001b[0mappend\u001b[0m\u001b[0;34m(\u001b[0m\u001b[0mtime\u001b[0m\u001b[0;34m(\u001b[0m\u001b[0;34m)\u001b[0m \u001b[0;34m-\u001b[0m \u001b[0mst\u001b[0m\u001b[0;34m)\u001b[0m\u001b[0;34m\u001b[0m\u001b[0m\n",
      "\u001b[0;32m~/project_euler/helpers.py\u001b[0m in \u001b[0;36mseive\u001b[0;34m(n)\u001b[0m\n\u001b[1;32m     27\u001b[0m     \u001b[0;34m\"\"\"Returns a list of primes less than n.\"\"\"\u001b[0m\u001b[0;34m\u001b[0m\u001b[0m\n\u001b[1;32m     28\u001b[0m     \u001b[0mpotentials\u001b[0m \u001b[0;34m=\u001b[0m \u001b[0;34m{\u001b[0m\u001b[0mi\u001b[0m\u001b[0;34m:\u001b[0m \u001b[0;32mTrue\u001b[0m \u001b[0;32mfor\u001b[0m \u001b[0mi\u001b[0m \u001b[0;32min\u001b[0m \u001b[0mrange\u001b[0m\u001b[0;34m(\u001b[0m\u001b[0;36m2\u001b[0m\u001b[0;34m,\u001b[0m \u001b[0mint\u001b[0m\u001b[0;34m(\u001b[0m\u001b[0mn\u001b[0m\u001b[0;34m)\u001b[0m \u001b[0;34m+\u001b[0m \u001b[0;36m1\u001b[0m\u001b[0;34m)\u001b[0m\u001b[0;34m}\u001b[0m\u001b[0;34m\u001b[0m\u001b[0m\n\u001b[0;32m---> 29\u001b[0;31m     \u001b[0mbound\u001b[0m \u001b[0;34m=\u001b[0m \u001b[0mint\u001b[0m\u001b[0;34m(\u001b[0m\u001b[0mnp\u001b[0m\u001b[0;34m.\u001b[0m\u001b[0msqrt\u001b[0m\u001b[0;34m(\u001b[0m\u001b[0mn\u001b[0m\u001b[0;34m)\u001b[0m\u001b[0;34m)\u001b[0m\u001b[0;34m\u001b[0m\u001b[0m\n\u001b[0m\u001b[1;32m     30\u001b[0m     \u001b[0;32mfor\u001b[0m \u001b[0mi\u001b[0m \u001b[0;32min\u001b[0m \u001b[0mrange\u001b[0m\u001b[0;34m(\u001b[0m\u001b[0;36m2\u001b[0m\u001b[0;34m,\u001b[0m \u001b[0mbound\u001b[0m \u001b[0;34m+\u001b[0m \u001b[0;36m1\u001b[0m\u001b[0;34m)\u001b[0m\u001b[0;34m:\u001b[0m\u001b[0;34m\u001b[0m\u001b[0m\n\u001b[1;32m     31\u001b[0m         \u001b[0;32mif\u001b[0m \u001b[0mpotentials\u001b[0m\u001b[0;34m[\u001b[0m\u001b[0mi\u001b[0m\u001b[0;34m]\u001b[0m\u001b[0;34m:\u001b[0m\u001b[0;34m\u001b[0m\u001b[0m\n",
      "\u001b[0;31mNameError\u001b[0m: name 'np' is not defined"
     ]
    }
   ],
   "source": [
    "for n in n_vals:\n",
    "    st = time()\n",
    "    p_vals = helpers.seive(n)\n",
    "    t_vals.append(time() - st)"
   ]
  },
  {
   "cell_type": "code",
   "execution_count": null,
   "metadata": {
    "collapsed": true
   },
   "outputs": [],
   "source": []
  }
 ],
 "metadata": {
  "kernelspec": {
   "display_name": "Python 3",
   "language": "python",
   "name": "python3"
  },
  "language_info": {
   "codemirror_mode": {
    "name": "ipython",
    "version": 3
   },
   "file_extension": ".py",
   "mimetype": "text/x-python",
   "name": "python",
   "nbconvert_exporter": "python",
   "pygments_lexer": "ipython3",
   "version": "3.6.3"
  }
 },
 "nbformat": 4,
 "nbformat_minor": 1
}
