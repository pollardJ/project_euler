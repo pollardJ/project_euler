{
 "cells": [
  {
   "cell_type": "code",
   "execution_count": 1,
   "metadata": {
    "collapsed": true
   },
   "outputs": [],
   "source": [
    "import pandas as pd\n",
    "import numpy as np\n",
    "import warnings\n",
    "from time import time"
   ]
  },
  {
   "cell_type": "markdown",
   "metadata": {},
   "source": [
    "# Problem 4\n",
    "$9009 = 91 \\times 99$ is the largest palindrome that is the product of two 2-digit numbers. What is the largest palindrome that is the product of two 3-digit numbers?"
   ]
  },
  {
   "cell_type": "code",
   "execution_count": 3,
   "metadata": {
    "collapsed": false
   },
   "outputs": [
    {
     "name": "stdout",
     "output_type": "stream",
     "text": [
      "r=1, n=99800, d=1\n",
      "r=10, n=9980, d=0\n",
      "r=100, n=998, d=0\n",
      "r=1008, n=99, d=8\n",
      "r=10089, n=9, d=9\n",
      "r=100899, n=0, d=9\n"
     ]
    }
   ],
   "source": [
    "n = 999 * 999\n",
    "r = 0\n",
    "while n > 0:\n",
    "    d = n % 10\n",
    "    r = r * 10 + d\n",
    "    n = int(n / 10)\n",
    "    print('r={}, n={}, d={}'.format(r, n, d))"
   ]
  },
  {
   "cell_type": "code",
   "execution_count": 4,
   "metadata": {
    "collapsed": true
   },
   "outputs": [],
   "source": [
    "def palindrome(n):\n",
    "    num = n\n",
    "    r = 0 \n",
    "    while num > 0:\n",
    "        d = num % 10\n",
    "        r = r * 10 + d\n",
    "        num = int(num / 10)\n",
    "    if r == n:\n",
    "        return True\n",
    "    else:\n",
    "        return False"
   ]
  },
  {
   "cell_type": "code",
   "execution_count": 5,
   "metadata": {
    "collapsed": false,
    "scrolled": false
   },
   "outputs": [
    {
     "name": "stdout",
     "output_type": "stream",
     "text": [
      "Largest palindrome that is product of two 3 digit numbers is 906609 = 913 * 993\n",
      "Problem 4 took 0.8389482498168945 seconds to run\n"
     ]
    }
   ],
   "source": [
    "start_time = time()\n",
    "the_big_one = 0\n",
    "fac1 = 0\n",
    "fac2 = 0\n",
    "for i in range(100, 1000):\n",
    "    for j in range(i, 1000):\n",
    "        product = i * j\n",
    "        if palindrome(product) and product > the_big_one:\n",
    "            the_big_one = product\n",
    "            fac1 = i\n",
    "            fac2 = j\n",
    "print('Largest palindrome that is product of two 3 digit numbers is {} = {} * {}'.format(the_big_one, fac1, fac2))\n",
    "print('Problem 4 took {} seconds to run'.format(time() - start_time))"
   ]
  },
  {
   "cell_type": "code",
   "execution_count": null,
   "metadata": {
    "collapsed": true
   },
   "outputs": [],
   "source": []
  },
  {
   "cell_type": "markdown",
   "metadata": {
    "collapsed": true
   },
   "source": [
    "# Problem 5\n",
    "2520 is the smallest number that can be divided by each of 1, 2,..., 10 without remainder. What is the smallest number that is evenly divisible by 1, 2,..., 20?"
   ]
  },
  {
   "cell_type": "code",
   "execution_count": 6,
   "metadata": {
    "collapsed": false
   },
   "outputs": [
    {
     "name": "stdout",
     "output_type": "stream",
     "text": [
      "1, 0, 2520.0\n",
      "2, 0, 1260.0\n",
      "3, 0, 840.0\n",
      "4, 0, 630.0\n",
      "5, 0, 504.0\n",
      "6, 0, 420.0\n",
      "7, 0, 360.0\n",
      "8, 0, 315.0\n",
      "9, 0, 280.0\n",
      "10, 0, 252.0\n"
     ]
    }
   ],
   "source": [
    "num = 2520\n",
    "for i in range(1, 11):\n",
    "    print('{}, {}, {}'.format(i, num % i, num / i))"
   ]
  },
  {
   "cell_type": "code",
   "execution_count": 7,
   "metadata": {
    "collapsed": true
   },
   "outputs": [],
   "source": [
    "def seive(n):\n",
    "    potentials = {i: True for i in range(2, int(n) + 1)}\n",
    "    bound = int(np.sqrt(n))\n",
    "    for i in range(2, bound + 1):\n",
    "        if potentials[i]:\n",
    "            for j in range(i ** 2, int(n) + 1, i):\n",
    "                potentials[j] = False\n",
    "    primes = [f for f in potentials.keys() if potentials[f]]\n",
    "    return primes"
   ]
  },
  {
   "cell_type": "code",
   "execution_count": 8,
   "metadata": {
    "collapsed": true
   },
   "outputs": [],
   "source": [
    "def highest_pow_lt_n(n):\n",
    "    primes_lt_n = seive(n)\n",
    "    pow_lt_n = []\n",
    "    for p in primes_lt_n:\n",
    "        i = 1\n",
    "        while p ** i < n:\n",
    "            i += 1\n",
    "        pow_lt_n.append(p ** (i - 1))\n",
    "    return pow_lt_n"
   ]
  },
  {
   "cell_type": "code",
   "execution_count": 9,
   "metadata": {
    "collapsed": true
   },
   "outputs": [],
   "source": [
    "prod = 1.0\n",
    "for x in highest_pow_lt_n(10):\n",
    "    prod = prod * x"
   ]
  },
  {
   "cell_type": "code",
   "execution_count": 10,
   "metadata": {
    "collapsed": false
   },
   "outputs": [
    {
     "data": {
      "text/plain": [
       "2520.0"
      ]
     },
     "execution_count": 10,
     "metadata": {},
     "output_type": "execute_result"
    }
   ],
   "source": [
    "prod"
   ]
  },
  {
   "cell_type": "code",
   "execution_count": 11,
   "metadata": {
    "collapsed": false
   },
   "outputs": [
    {
     "name": "stdout",
     "output_type": "stream",
     "text": [
      "The smallest number that is evenly divisible by 1, 2,..., 20 is 232792560.0\n",
      "This took 0.0005660057067871094 secs to run\n"
     ]
    }
   ],
   "source": [
    "start_time = time()\n",
    "prod2 = 1.0\n",
    "for x in highest_pow_lt_n(20):\n",
    "    prod2 = prod2 * x\n",
    "print('The smallest number that is evenly divisible by 1, 2,..., 20 is {}'.format(prod2))\n",
    "print('This took {} secs to run'.format(time() - start_time))"
   ]
  },
  {
   "cell_type": "code",
   "execution_count": null,
   "metadata": {
    "collapsed": true
   },
   "outputs": [],
   "source": []
  },
  {
   "cell_type": "markdown",
   "metadata": {},
   "source": [
    "# Problem 6\n",
    "The sum of the squares of the first ten natural numbers is $1^2 + 2^2 + \\cdots + 10^2 = 385$ and the square of the sum of the first ten natural numbers is $(1 + 2 + \\cdots + 10)^2 = 3025$ and their difference is $3025 - 385 = 2640$. What is the result for the first 100 natural numbers?"
   ]
  },
  {
   "cell_type": "code",
   "execution_count": 12,
   "metadata": {
    "collapsed": true
   },
   "outputs": [],
   "source": [
    "def problem6(n):\n",
    "    sum_of_sq = 0\n",
    "    sq_sum = 0\n",
    "    for i in range(1, n + 1):\n",
    "        sum_of_sq += i ** 2\n",
    "        sq_sum += i\n",
    "    return sq_sum ** 2 - sum_of_sq"
   ]
  },
  {
   "cell_type": "code",
   "execution_count": 13,
   "metadata": {
    "collapsed": false
   },
   "outputs": [
    {
     "data": {
      "text/plain": [
       "2640"
      ]
     },
     "execution_count": 13,
     "metadata": {},
     "output_type": "execute_result"
    }
   ],
   "source": [
    "problem6(10)"
   ]
  },
  {
   "cell_type": "code",
   "execution_count": 14,
   "metadata": {
    "collapsed": false
   },
   "outputs": [
    {
     "name": "stdout",
     "output_type": "stream",
     "text": [
      "The difference is 25164150\n"
     ]
    }
   ],
   "source": [
    "print('The difference is {}'.format(problem6(100)))"
   ]
  },
  {
   "cell_type": "code",
   "execution_count": null,
   "metadata": {
    "collapsed": true
   },
   "outputs": [],
   "source": []
  },
  {
   "cell_type": "markdown",
   "metadata": {},
   "source": [
    "# Problem 7\n",
    "The sixth prime number is 13. This can be seen by listing off the primes: 2, 3, 5, 7, 11, 13. What is the 10,001st prime number?"
   ]
  },
  {
   "cell_type": "code",
   "execution_count": 17,
   "metadata": {
    "collapsed": true,
    "scrolled": false
   },
   "outputs": [],
   "source": [
    "start_val = 10000\n",
    "num_primes = len(seive(start_val))\n",
    "while num_primes < 10001:\n",
    "    num_primes = len(seive(start_val))\n",
    "    start_val += 500"
   ]
  },
  {
   "cell_type": "code",
   "execution_count": 18,
   "metadata": {
    "collapsed": false
   },
   "outputs": [
    {
     "data": {
      "text/plain": [
       "10024"
      ]
     },
     "execution_count": 18,
     "metadata": {},
     "output_type": "execute_result"
    }
   ],
   "source": [
    "num_primes"
   ]
  },
  {
   "cell_type": "code",
   "execution_count": 19,
   "metadata": {
    "collapsed": false
   },
   "outputs": [
    {
     "data": {
      "text/plain": [
       "105500"
      ]
     },
     "execution_count": 19,
     "metadata": {},
     "output_type": "execute_result"
    }
   ],
   "source": [
    "start_val"
   ]
  },
  {
   "cell_type": "code",
   "execution_count": 22,
   "metadata": {
    "collapsed": false
   },
   "outputs": [
    {
     "data": {
      "text/plain": [
       "10024"
      ]
     },
     "execution_count": 22,
     "metadata": {},
     "output_type": "execute_result"
    }
   ],
   "source": [
    "len(seive(105000))"
   ]
  },
  {
   "cell_type": "code",
   "execution_count": 23,
   "metadata": {
    "collapsed": true
   },
   "outputs": [],
   "source": [
    "primes_lt_105000 = seive(105000)"
   ]
  },
  {
   "cell_type": "code",
   "execution_count": 24,
   "metadata": {
    "collapsed": false
   },
   "outputs": [
    {
     "name": "stdout",
     "output_type": "stream",
     "text": [
      "The 10001st prime is 104743\n"
     ]
    }
   ],
   "source": [
    "print('The 10001st prime is {}'.format(primes_lt_105000[10000]))"
   ]
  },
  {
   "cell_type": "code",
   "execution_count": 33,
   "metadata": {
    "collapsed": true
   },
   "outputs": [],
   "source": [
    "def problem7():\n",
    "    start_val = 10000\n",
    "    step_size = 500\n",
    "    num_primes = len(seive(start_val))\n",
    "    while num_primes < 10001:\n",
    "        start_val += step_size\n",
    "        num_primes = len(seive(start_val))\n",
    "    primes_lt_start_val = seive(start_val)\n",
    "    print('The 10001st prime number is {}'.format(primes_lt_start_val[10000]))"
   ]
  },
  {
   "cell_type": "code",
   "execution_count": 34,
   "metadata": {
    "collapsed": false
   },
   "outputs": [
    {
     "name": "stdout",
     "output_type": "stream",
     "text": [
      "The 10001st prime number is 104743\n",
      "The 10001st prime number is 104743\n",
      "The 10001st prime number is 104743\n",
      "The 10001st prime number is 104743\n",
      "The 10001st prime number is 104743\n",
      "The 10001st prime number is 104743\n",
      "The 10001st prime number is 104743\n",
      "The 10001st prime number is 104743\n",
      "4.23 s ± 47.8 ms per loop (mean ± std. dev. of 7 runs, 1 loop each)\n"
     ]
    }
   ],
   "source": [
    "%timeit problem7()"
   ]
  },
  {
   "cell_type": "code",
   "execution_count": null,
   "metadata": {
    "collapsed": true
   },
   "outputs": [],
   "source": []
  },
  {
   "cell_type": "code",
   "execution_count": null,
   "metadata": {
    "collapsed": true
   },
   "outputs": [],
   "source": []
  },
  {
   "cell_type": "code",
   "execution_count": null,
   "metadata": {
    "collapsed": true
   },
   "outputs": [],
   "source": []
  },
  {
   "cell_type": "code",
   "execution_count": null,
   "metadata": {
    "collapsed": true
   },
   "outputs": [],
   "source": []
  }
 ],
 "metadata": {
  "anaconda-cloud": {},
  "kernelspec": {
   "display_name": "Python [Root]",
   "language": "python",
   "name": "Python [Root]"
  },
  "language_info": {
   "codemirror_mode": {
    "name": "ipython",
    "version": 3
   },
   "file_extension": ".py",
   "mimetype": "text/x-python",
   "name": "python",
   "nbconvert_exporter": "python",
   "pygments_lexer": "ipython3",
   "version": "3.5.2"
  }
 },
 "nbformat": 4,
 "nbformat_minor": 1
}
